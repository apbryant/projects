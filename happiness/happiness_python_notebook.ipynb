{
 "cells": [
  {
   "cell_type": "markdown",
   "metadata": {},
   "source": [
    "# Wrangling Happiness \n",
    "\n",
    "## Data\n",
    "\n",
    "I've been exploring Kaggle's datasets on happiness. As part of this, I used Python to manipulate the data.\n",
    "\n",
    "I downloaded Kaggle's 2015, 2016, and 2017 datasets on happiness. The datasets contain countrys' happiness scores, their rankings among other countries, and factors that may influence happiness, such as income, life expectancy, and freedom."
   ]
  },
  {
   "cell_type": "code",
   "execution_count": null,
   "metadata": {
    "collapsed": true
   },
   "outputs": [],
   "source": [
    "import csv\n",
    "import os\n",
    "from functions import *\n",
    "\n",
    "os.getcwd()\n",
    "\n",
    "path1 = './datasets/happiness2015.csv'\n",
    "path2 = './datasets/happiness2016.csv'\n",
    "path3 = './datasets/happiness2017.csv'\n",
    "\n",
    "h2015 = []\n",
    "h2016 = []\n",
    "h2017 = []\n",
    "\n",
    "# read in csv files\n",
    "# create a list of dictionaries\n",
    "\n",
    "h2015 = opener(path1, h2015) \n",
    "h2016 = opener(path2, h2016)\n",
    "h2017 = opener(path2, h2017)"
   ]
  },
  {
   "cell_type": "markdown",
   "metadata": {},
   "source": [
    "The data is a list of dictionaries. Each list is data for one year, and each index within the list contains key-value pairs representing variables for a particular country."
   ]
  },
  {
   "cell_type": "markdown",
   "metadata": {},
   "source": [
    "## Adjusting length"
   ]
  },
  {
   "cell_type": "code",
   "execution_count": null,
   "metadata": {
    "collapsed": true
   },
   "outputs": [],
   "source": [
    "# check length\n",
    "print len(h2015), len(h2016), len(h2017)"
   ]
  },
  {
   "cell_type": "markdown",
   "metadata": {},
   "source": [
    "The datasets are of unequal lengths because the countries in the datasets are not the same. For example, country X might be in h2015 but not h2016 or h2017. In order to proceed, the countries in each dataset must be uniform."
   ]
  },
  {
   "cell_type": "markdown",
   "metadata": {},
   "source": [
    "I created a list of country names for each dataset. I then created another list of country names that are present in all three datasets, and removed from the data any country that is not present in this list."
   ]
  },
  {
   "cell_type": "code",
   "execution_count": null,
   "metadata": {
    "collapsed": true
   },
   "outputs": [],
   "source": [
    "country2015 = []\n",
    "country2016 = []\n",
    "country2017 = []\n",
    "in_all = []\n",
    "\n",
    "country_list(h2015, country2015)\n",
    "country_list(h2016, country2016)\n",
    "country_list(h2017, country2017)\n",
    "\n",
    "for country in country2016:\n",
    "    if country in country2015 and country in country2017:\n",
    "        in_all.append(country)\n",
    "\n",
    "# only use countries that are in all three datasets\n",
    "h2015 = country_remove(h2015, in_all)\n",
    "h2016 = country_remove(h2016, in_all)\n",
    "h2017 = country_remove(h2017, in_all)\n",
    "\n",
    "print len(h2015), len(h2016), len(h2017)"
   ]
  },
  {
   "cell_type": "markdown",
   "metadata": {},
   "source": [
    "Finally, I write the datasets to CSV files. I used the CSVs to continue my analysis in R, where I prefer to do exploratory data analysis."
   ]
  },
  {
   "cell_type": "code",
   "execution_count": null,
   "metadata": {
    "collapsed": true
   },
   "outputs": [],
   "source": [
    "# write new csv files. code from: http://bit.ly/2tq9BqN\n",
    "write_csv(h2015, 'h2015.csv')\n",
    "write_csv(h2016, 'h2016.csv')\n",
    "write_csv(h2017, 'h2017.csv')"
   ]
  }
 ],
 "metadata": {
  "anaconda-cloud": {},
  "kernelspec": {
   "display_name": "Python [conda root]",
   "language": "python",
   "name": "conda-root-py"
  },
  "language_info": {
   "codemirror_mode": {
    "name": "ipython",
    "version": 3
   },
   "file_extension": ".py",
   "mimetype": "text/x-python",
   "name": "python",
   "nbconvert_exporter": "python",
   "pygments_lexer": "ipython3",
   "version": "3.5.2"
  }
 },
 "nbformat": 4,
 "nbformat_minor": 1
}
